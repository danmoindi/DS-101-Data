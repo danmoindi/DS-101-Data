{
 "cells": [
  {
   "cell_type": "code",
   "execution_count": null,
   "id": "initial_id",
   "metadata": {
    "collapsed": true
   },
   "outputs": [],
   "source": [
    ""
   ]
  },
  {
   "metadata": {
    "ExecuteTime": {
     "end_time": "2025-06-04T16:48:19.283619Z",
     "start_time": "2025-06-04T16:48:19.078991Z"
    }
   },
   "cell_type": "code",
   "source": [
    "import pandas as pd\n",
    "\n",
    "# Define the file path\n",
    "data=pd.read_csv(\"annual-enterprise-survey-2023-financial-year-provisional.csv\", header='infer')\n",
    "\n",
    "# Display the first five rows (head)\n",
    "print(\"Head of the dataset:\")\n",
    "print(data.head())\n",
    "\n",
    "# Display the last five rows (tail)\n",
    "print(\"\\nTail of the dataset:\")\n",
    "print(data.tail())\n",
    "\n",
    "# Display a random sample of 5 rows\n",
    "print(\"\\nRandom Sample:\")\n",
    "print(data.sample(5))\n"
   ],
   "id": "4dd92087315fe33f",
   "outputs": [
    {
     "name": "stdout",
     "output_type": "stream",
     "text": [
      "Head of the dataset:\n",
      "   Year Industry_aggregation_NZSIOC Industry_code_NZSIOC Industry_name_NZSIOC  \\\n",
      "0  2023                     Level 1                99999       All industries   \n",
      "1  2023                     Level 1                99999       All industries   \n",
      "2  2023                     Level 1                99999       All industries   \n",
      "3  2023                     Level 1                99999       All industries   \n",
      "4  2023                     Level 1                99999       All industries   \n",
      "\n",
      "                Units Variable_code  \\\n",
      "0  Dollars (millions)           H01   \n",
      "1  Dollars (millions)           H04   \n",
      "2  Dollars (millions)           H05   \n",
      "3  Dollars (millions)           H07   \n",
      "4  Dollars (millions)           H08   \n",
      "\n",
      "                                     Variable_name      Variable_category  \\\n",
      "0                                     Total income  Financial performance   \n",
      "1  Sales, government funding, grants and subsidies  Financial performance   \n",
      "2                Interest, dividends and donations  Financial performance   \n",
      "3                             Non-operating income  Financial performance   \n",
      "4                                Total expenditure  Financial performance   \n",
      "\n",
      "    Value                             Industry_code_ANZSIC06  \n",
      "0  930995  ANZSIC06 divisions A-S (excluding classes K633...  \n",
      "1  821630  ANZSIC06 divisions A-S (excluding classes K633...  \n",
      "2   84354  ANZSIC06 divisions A-S (excluding classes K633...  \n",
      "3   25010  ANZSIC06 divisions A-S (excluding classes K633...  \n",
      "4  832964  ANZSIC06 divisions A-S (excluding classes K633...  \n",
      "\n",
      "Tail of the dataset:\n",
      "       Year Industry_aggregation_NZSIOC Industry_code_NZSIOC  \\\n",
      "50980  2013                     Level 3                 ZZ11   \n",
      "50981  2013                     Level 3                 ZZ11   \n",
      "50982  2013                     Level 3                 ZZ11   \n",
      "50983  2013                     Level 3                 ZZ11   \n",
      "50984  2013                     Level 3                 ZZ11   \n",
      "\n",
      "             Industry_name_NZSIOC       Units Variable_code  \\\n",
      "50980  Food product manufacturing  Percentage           H37   \n",
      "50981  Food product manufacturing  Percentage           H38   \n",
      "50982  Food product manufacturing  Percentage           H39   \n",
      "50983  Food product manufacturing  Percentage           H40   \n",
      "50984  Food product manufacturing  Percentage           H41   \n",
      "\n",
      "                             Variable_name Variable_category Value  \\\n",
      "50980                          Quick ratio  Financial ratios    52   \n",
      "50981  Margin on sales of goods for resale  Financial ratios    40   \n",
      "50982                     Return on equity  Financial ratios    12   \n",
      "50983               Return on total assets  Financial ratios     5   \n",
      "50984                Liabilities structure  Financial ratios    46   \n",
      "\n",
      "                                  Industry_code_ANZSIC06  \n",
      "50980  ANZSIC06 groups C111, C112, C113, C114, C115, ...  \n",
      "50981  ANZSIC06 groups C111, C112, C113, C114, C115, ...  \n",
      "50982  ANZSIC06 groups C111, C112, C113, C114, C115, ...  \n",
      "50983  ANZSIC06 groups C111, C112, C113, C114, C115, ...  \n",
      "50984  ANZSIC06 groups C111, C112, C113, C114, C115, ...  \n",
      "\n",
      "Random Sample:\n",
      "       Year Industry_aggregation_NZSIOC Industry_code_NZSIOC  \\\n",
      "21864  2019                     Level 4                KK131   \n",
      "23426  2018                     Level 3                 AA14   \n",
      "47656  2013                     Level 4                CC711   \n",
      "360    2023                     Level 4                AA211   \n",
      "5205   2022                     Level 3                 CC21   \n",
      "\n",
      "                                    Industry_name_NZSIOC               Units  \\\n",
      "21864           Auxiliary Finance and Insurance Services  Dollars (millions)   \n",
      "23426          Poultry, Deer and Other Livestock Farming  Dollars (millions)   \n",
      "47656      Primary Metal and Metal Product Manufacturing  Dollars (millions)   \n",
      "360                                 Forestry and Logging          Percentage   \n",
      "5205   Textile, Leather, Clothing and Footwear Manufa...  Dollars (millions)   \n",
      "\n",
      "      Variable_code                             Variable_name  \\\n",
      "21864           H05         Interest, dividends and donations   \n",
      "23426           H13                  Redundancy and severance   \n",
      "47656           H32                       Current liabilities   \n",
      "360             H37                               Quick ratio   \n",
      "5205            H06  Government funding, grants and subsidies   \n",
      "\n",
      "           Variable_category Value  \\\n",
      "21864  Financial performance   322   \n",
      "23426  Financial performance     0   \n",
      "47656     Financial position   995   \n",
      "360         Financial ratios    53   \n",
      "5205   Financial performance    24   \n",
      "\n",
      "                                 Industry_code_ANZSIC06  \n",
      "21864                     ANZSIC06 groups K641 and K642  \n",
      "23426              ANZSIC06 groups A017, A018, and A019  \n",
      "47656        ANZSIC06 groups C211, C212, C213, and C214  \n",
      "360                                 ANZSIC06 group A030  \n",
      "5205   ANZSIC06 groups C131, C132, C133, C134, and C135  \n"
     ]
    }
   ],
   "execution_count": 4
  },
  {
   "metadata": {},
   "cell_type": "code",
   "outputs": [],
   "execution_count": null,
   "source": "",
   "id": "bbc0a38044f5c5e"
  }
 ],
 "metadata": {
  "kernelspec": {
   "display_name": "Python 3",
   "language": "python",
   "name": "python3"
  },
  "language_info": {
   "codemirror_mode": {
    "name": "ipython",
    "version": 2
   },
   "file_extension": ".py",
   "mimetype": "text/x-python",
   "name": "python",
   "nbconvert_exporter": "python",
   "pygments_lexer": "ipython2",
   "version": "2.7.6"
  }
 },
 "nbformat": 4,
 "nbformat_minor": 5
}
