{
 "cells": [
  {
   "metadata": {
    "ExecuteTime": {
     "end_time": "2025-06-04T16:48:41.857276Z",
     "start_time": "2025-06-04T16:48:39.557496Z"
    }
   },
   "cell_type": "code",
   "source": [
    "import pandas as pd\n",
    "\n",
    "import ssl\n",
    "\n",
    "ssl._create_default_https_context = ssl._create_stdlib_context\n",
    "data=pd.read_csv(\"https://raw.githubusercontent.com/mwaskom/seaborn-data/master/iris.csv\",header=\"infer\")\n",
    "\n",
    "print(\"Head of the dataset:\")\n",
    "print(data.head())\n",
    "\n",
    "# Display the last five rows (tail)\n",
    "print(\"\\nTail of the dataset:\")\n",
    "print(data.tail())\n",
    "\n",
    "# Display a random sample of 5 rows\n",
    "print(\"\\nRandom Sample:\")\n",
    "print(data.sample(5))\n"
   ],
   "id": "14e86446344a32b5",
   "outputs": [
    {
     "name": "stdout",
     "output_type": "stream",
     "text": [
      "Head of the dataset:\n",
      "   sepal_length  sepal_width  petal_length  petal_width species\n",
      "0           5.1          3.5           1.4          0.2  setosa\n",
      "1           4.9          3.0           1.4          0.2  setosa\n",
      "2           4.7          3.2           1.3          0.2  setosa\n",
      "3           4.6          3.1           1.5          0.2  setosa\n",
      "4           5.0          3.6           1.4          0.2  setosa\n",
      "\n",
      "Tail of the dataset:\n",
      "     sepal_length  sepal_width  petal_length  petal_width    species\n",
      "145           6.7          3.0           5.2          2.3  virginica\n",
      "146           6.3          2.5           5.0          1.9  virginica\n",
      "147           6.5          3.0           5.2          2.0  virginica\n",
      "148           6.2          3.4           5.4          2.3  virginica\n",
      "149           5.9          3.0           5.1          1.8  virginica\n",
      "\n",
      "Random Sample:\n",
      "     sepal_length  sepal_width  petal_length  petal_width     species\n",
      "24            4.8          3.4           1.9          0.2      setosa\n",
      "85            6.0          3.4           4.5          1.6  versicolor\n",
      "128           6.4          2.8           5.6          2.1   virginica\n",
      "79            5.7          2.6           3.5          1.0  versicolor\n",
      "127           6.1          3.0           4.9          1.8   virginica\n"
     ]
    }
   ],
   "execution_count": 1
  },
  {
   "metadata": {},
   "cell_type": "code",
   "outputs": [],
   "execution_count": null,
   "source": "",
   "id": "cbebff0766c49f07"
  }
 ],
 "metadata": {
  "kernelspec": {
   "display_name": "Python 3",
   "language": "python",
   "name": "python3"
  },
  "language_info": {
   "codemirror_mode": {
    "name": "ipython",
    "version": 2
   },
   "file_extension": ".py",
   "mimetype": "text/x-python",
   "name": "python",
   "nbconvert_exporter": "python",
   "pygments_lexer": "ipython2",
   "version": "2.7.6"
  }
 },
 "nbformat": 4,
 "nbformat_minor": 5
}
